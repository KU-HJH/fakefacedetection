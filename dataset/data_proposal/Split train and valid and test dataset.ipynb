{
 "cells": [
  {
   "cell_type": "code",
   "execution_count": 5,
   "id": "sunset-marketplace",
   "metadata": {
    "ExecuteTime": {
     "end_time": "2021-06-12T07:20:02.680208Z",
     "start_time": "2021-06-12T07:20:02.264478Z"
    }
   },
   "outputs": [],
   "source": [
    "import os\n",
    "import pandas as pd\n",
    "from sklearn.model_selection import train_test_split"
   ]
  },
  {
   "cell_type": "code",
   "execution_count": 74,
   "id": "secondary-flight",
   "metadata": {
    "ExecuteTime": {
     "end_time": "2021-06-12T07:37:09.010732Z",
     "start_time": "2021-06-12T07:37:08.978773Z"
    }
   },
   "outputs": [
    {
     "data": {
      "text/html": [
       "<div>\n",
       "<style scoped>\n",
       "    .dataframe tbody tr th:only-of-type {\n",
       "        vertical-align: middle;\n",
       "    }\n",
       "\n",
       "    .dataframe tbody tr th {\n",
       "        vertical-align: top;\n",
       "    }\n",
       "\n",
       "    .dataframe thead th {\n",
       "        text-align: right;\n",
       "    }\n",
       "</style>\n",
       "<table border=\"1\" class=\"dataframe\">\n",
       "  <thead>\n",
       "    <tr style=\"text-align: right;\">\n",
       "      <th></th>\n",
       "      <th>path</th>\n",
       "      <th>real</th>\n",
       "      <th>fake</th>\n",
       "    </tr>\n",
       "  </thead>\n",
       "  <tbody>\n",
       "    <tr>\n",
       "      <th>0</th>\n",
       "      <td>./face_image/fake/JFH50GFJUL.jpg</td>\n",
       "      <td>0</td>\n",
       "      <td>1</td>\n",
       "    </tr>\n",
       "    <tr>\n",
       "      <th>1</th>\n",
       "      <td>./face_image/fake/0VPS5TI60G.jpg</td>\n",
       "      <td>0</td>\n",
       "      <td>1</td>\n",
       "    </tr>\n",
       "    <tr>\n",
       "      <th>2</th>\n",
       "      <td>./face_image/real/61911.jpg</td>\n",
       "      <td>1</td>\n",
       "      <td>0</td>\n",
       "    </tr>\n",
       "    <tr>\n",
       "      <th>3</th>\n",
       "      <td>./face_image/fake/APADHGXN31.jpg</td>\n",
       "      <td>0</td>\n",
       "      <td>1</td>\n",
       "    </tr>\n",
       "    <tr>\n",
       "      <th>4</th>\n",
       "      <td>./face_image/fake/SJO2UL69C2.jpg</td>\n",
       "      <td>0</td>\n",
       "      <td>1</td>\n",
       "    </tr>\n",
       "  </tbody>\n",
       "</table>\n",
       "</div>"
      ],
      "text/plain": [
       "                               path  real  fake\n",
       "0  ./face_image/fake/JFH50GFJUL.jpg     0     1\n",
       "1  ./face_image/fake/0VPS5TI60G.jpg     0     1\n",
       "2       ./face_image/real/61911.jpg     1     0\n",
       "3  ./face_image/fake/APADHGXN31.jpg     0     1\n",
       "4  ./face_image/fake/SJO2UL69C2.jpg     0     1"
      ]
     },
     "execution_count": 74,
     "metadata": {},
     "output_type": "execute_result"
    }
   ],
   "source": [
    "data_df = pd.read_csv(\"./face_images.csv\")\n",
    "data_df.head()"
   ]
  },
  {
   "cell_type": "code",
   "execution_count": 75,
   "id": "arabic-tourist",
   "metadata": {
    "ExecuteTime": {
     "end_time": "2021-06-12T07:37:09.167455Z",
     "start_time": "2021-06-12T07:37:09.161372Z"
    }
   },
   "outputs": [
    {
     "data": {
      "text/plain": [
       "(20000, 3)"
      ]
     },
     "execution_count": 75,
     "metadata": {},
     "output_type": "execute_result"
    }
   ],
   "source": [
    "data_df.shape"
   ]
  },
  {
   "cell_type": "code",
   "execution_count": 76,
   "id": "least-brook",
   "metadata": {
    "ExecuteTime": {
     "end_time": "2021-06-12T07:37:09.379451Z",
     "start_time": "2021-06-12T07:37:09.374953Z"
    }
   },
   "outputs": [],
   "source": [
    "train = data_df.iloc[:18000]\n",
    "test = data_df.iloc[18000:]"
   ]
  },
  {
   "cell_type": "code",
   "execution_count": 77,
   "id": "demanding-democracy",
   "metadata": {
    "ExecuteTime": {
     "end_time": "2021-06-12T07:37:09.774802Z",
     "start_time": "2021-06-12T07:37:09.769146Z"
    }
   },
   "outputs": [
    {
     "data": {
      "text/plain": [
       "((18000, 3), (2000, 3))"
      ]
     },
     "execution_count": 77,
     "metadata": {},
     "output_type": "execute_result"
    }
   ],
   "source": [
    "train.shape, test.shape"
   ]
  },
  {
   "cell_type": "code",
   "execution_count": 78,
   "id": "ideal-belle",
   "metadata": {
    "ExecuteTime": {
     "end_time": "2021-06-12T07:37:10.186456Z",
     "start_time": "2021-06-12T07:37:10.147233Z"
    }
   },
   "outputs": [],
   "source": [
    "train.to_csv('./train.csv', index=None)"
   ]
  },
  {
   "cell_type": "code",
   "execution_count": 80,
   "id": "cognitive-simon",
   "metadata": {
    "ExecuteTime": {
     "end_time": "2021-06-12T07:37:11.828272Z",
     "start_time": "2021-06-12T07:37:11.816526Z"
    }
   },
   "outputs": [],
   "source": [
    "test.to_csv('./test.csv', index=None)"
   ]
  },
  {
   "cell_type": "code",
   "execution_count": null,
   "id": "proprietary-melissa",
   "metadata": {},
   "outputs": [],
   "source": []
  }
 ],
 "metadata": {
  "kernelspec": {
   "display_name": "Python 3",
   "language": "python",
   "name": "python3"
  },
  "language_info": {
   "codemirror_mode": {
    "name": "ipython",
    "version": 3
   },
   "file_extension": ".py",
   "mimetype": "text/x-python",
   "name": "python",
   "nbconvert_exporter": "python",
   "pygments_lexer": "ipython3",
   "version": "3.7.10"
  },
  "toc": {
   "base_numbering": 1,
   "nav_menu": {},
   "number_sections": true,
   "sideBar": true,
   "skip_h1_title": false,
   "title_cell": "Table of Contents",
   "title_sidebar": "Contents",
   "toc_cell": false,
   "toc_position": {},
   "toc_section_display": true,
   "toc_window_display": false
  }
 },
 "nbformat": 4,
 "nbformat_minor": 5
}
